{
 "cells": [
  {
   "cell_type": "markdown",
   "metadata": {
    "id": "dK6jisUkqIZN"
   },
   "source": [
    "<h1><strong>Probabilités au Poker</strong></h1>"
   ]
  },
  {
   "cell_type": "markdown",
   "metadata": {
    "id": "2x7jyL_BCK5G"
   },
   "source": [
    "Les probabilités dans une partie de poker \n",
    "\n",
    "Bienvenue sur ce blog dédié aux mathématiques dans le poker et plus particulièrement aux probabilités dans le poker. \n",
    "Dans le cadre du module de modélisations mathématiques, nous avons décidé de nous intéresser à l'application pratique des maths dans la vie de tous les jours. \n",
    "\n",
    "Nous avons donc formé un groupe de quatre étudiants composé de : BEM Nicolas, BONNE Yannis, BOLLAERT Hugo, JUNG Maxence.\n",
    "Le choix de ce sujet nous permet d'étudier la part d'aléatoire et de probabilité poussée avec un arbre de possibilité gigantesque. \n",
    "\n",
    "\n",
    "Notre sujet est donc : les probabilités dans une partie de poker, nous allons donc nous principalement nous intéresser aux probabilités de gagner la phase avec les cartes à notre disposition, \n",
    "et ce afin de proposer un algorithme qui nous permettraient d'Évaluer les possibilités de Victoire. "
   ]
  },
  {
   "cell_type": "code",
   "execution_count": null,
   "metadata": {
    "id": "3T8kIR5Yp_EF"
   },
   "outputs": [],
   "source": [
    "# import des modules mathématiques pour les calculs de proba\n",
    "import numpy, matplotlib"
   ]
  }
 ],
 "metadata": {
  "colab": {
   "name": "Poker.ipynb",
   "provenance": []
  },
  "kernelspec": {
   "display_name": "Python 3",
   "language": "python",
   "name": "python3"
  },
  "language_info": {
   "codemirror_mode": {
    "name": "ipython",
    "version": 3
   },
   "file_extension": ".py",
   "mimetype": "text/x-python",
   "name": "python",
   "nbconvert_exporter": "python",
   "pygments_lexer": "ipython3",
   "version": "3.9.0"
  }
 },
 "nbformat": 4,
 "nbformat_minor": 1
}
